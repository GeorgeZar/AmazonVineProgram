{
	"nbformat": 4,
	"nbformat_minor": 0,
	"metadata": {
	"colab": {
	"name": "Amazon_Reviews_ETL.ipynb",
	"provenance": [],
	"collapsed_sections": []
	},
	"kernelspec": {
	"display_name": "PythonData",
	"language": "python",
	"name": "pythondata"
	},
	"language_info": {
	"codemirror_mode": {
	"name": "ipython",
	"version": 3
	},
	"file_extension": ".py",
	"mimetype": "text/x-python",
	"name": "python",
	"nbconvert_exporter": "python",
	"pygments_lexer": "ipython3",
	"version": "3.7.7"
	},
	"nteract": {
	"version": "0.12.3"
	}
	},
	"cells": [
	{
	"cell_type": "code",
	"metadata": {
	"id": "V58rxea0HqSa",
	"outputId": "0052b973-efec-4ff6-cc95-b41d5e30026e",
	"colab": {
	"base_uri": "https://localhost:8080/"
	}
	},
	"source": [
	"import os\n",
	"# Find the latest version of spark 2.0 from http://www-us.apache.org/dist/spark/ and enter as the spark version\n",
	"# For example:\n",
	"# spark_version = 'spark-3.0.0'\n",
	"spark_version = 'spark-3.0.1'\n",
	"os.environ['SPARK_VERSION']=spark_version\n",
	"\n",
	"# Install Spark and Java\n",
	"!apt-get update\n",
	"!apt-get install openjdk-11-jdk-headless -qq > /dev/null\n",
	"!wget -q http://www-us.apache.org/dist/spark/$SPARK_VERSION/$SPARK_VERSION-bin-hadoop2.7.tgz\n",
	"!tar xf $SPARK_VERSION-bin-hadoop2.7.tgz\n",
	"!pip install -q findspark\n",
	"\n",
	"# Set Environment Variables\n",
	"import os\n",
	"os.environ[\"JAVA_HOME\"] = \"/usr/lib/jvm/java-11-openjdk-amd64\"\n",
	"os.environ[\"SPARK_HOME\"] = f\"/content/{spark_version}-bin-hadoop2.7\"\n",
	"\n",
	"# Start a SparkSession\n",
	"import findspark\n",
	"findspark.init()"
	],

"name": "stdout"
	}
	]
	},
	{
	"cell_type": "code",
	"metadata": {
	"id": "_xKwTpATHqSe",
	"outputId": "79da9fcb-df49-47fe-fdc4-b9f3922c1a06",
	"colab": {
	"base_uri": "https://localhost:8080/"
	}
	},
	"source": [
	"# Download the Postgres driver that will allow Spark to interact with Postgres.\n",
	"!wget https://jdbc.postgresql.org/download/postgresql-42.2.16.jar"
	],

"name": "stdout"
	}
	]
	},
	{
	"cell_type": "code",
	"metadata": {
	"id": "MMqDAjVS0KN9"
	},
	"source": [
	"# Start Spark session\n",
	"from pyspark.sql import SparkSession\n",
	"spark = SparkSession.builder.appName(\"BigData-Challenge\").config(\"spark.driver.extraClassPath\",\"/content/postgresql-42.2.16.jar\").getOrCreate()"
	],


{
	"cell_type": "markdown",
	"metadata": {
	"id": "cyBsySGuY-9V"
	},
	"source": [
	"### Load Amazon Data into Spark DataFrame"
	]
	},
	{
	"cell_type": "code",
	"metadata": {
	"id": "CtCmBhQJY-9Z",
	"outputId": "349ca6bb-ecdd-46b1-abc7-1e7e4512762e",
	"colab": {
	"base_uri": "https://localhost:8080/"
	}
	},
	"source": [
	"from pyspark import SparkFiles\n",
	"url = \"https://s3.amazonaws.com/amazon-reviews-pds/tsv/amazon_reviews_us_Video_Games_v1_00.tsv.gz\"\n",
	"spark.sparkContext.addFile(url)\n",
	"df = spark.read.option(\"encoding\", \"UTF-8\").csv(SparkFiles.get(\"amazon_reviews_us_Video_Games_v1_00.tsv.gz\"), sep=\"\\t\", header=True, inferSchema=True)\n",
	"df.show()"
	],
"only showing top 20 rows\n",
	"\n"
	],
	"name": "stdout"
	}
	]
	},
	{
	"cell_type": "markdown",
	"metadata": {
	"id": "2yUSe55VY-9t"
	},
	"source": [
	"### Create DataFrames to match tables"
	]
	},
	{
	"cell_type": "code",
	"metadata": {
	"id": "C8REmY1aY-9u"
	},
	"source": [
	"from pyspark.sql.functions import to_date\n",
	"# Read in the Review dataset as a DataFrame\n"
	],
{
	"cell_type": "code",
	"metadata": {
	"id": "B0TESUDRY-90",
	"outputId": "4201e7d4-1e69-41da-ec45-5c8ce375feba",
	"colab": {
	"base_uri": "https://localhost:8080/"
	}
	},
	"source": [
	"# Create the customers_table DataFrame\n",
	"customers_df = df.groupby(\"customer_id\").agg({\"customer_id\":\"count\"}).withColumnRenamed(\"count(customer_id)\", \"customer_count\")\n",
	"customers_df.show()"
	],
],
	"name": "stdout"
	}
	]
	},
	{
	"cell_type": "code",
	"metadata": {
	"id": "4FwXA6UvY-96",
	"outputId": "95a5137b-29f1-4372-f903-b28763b1ee8d",
	"colab": {
	"base_uri": "https://localhost:8080/"
	}
	},
	"source": [
	"# Create the products_table DataFrame and drop duplicates. \n",
	"products_df = df.select([\"product_id\",\"product_title\"]).drop_duplicates()\n",
	"products_df.show()"
	],

{
	"cell_type": "code",
	"metadata": {
	"id": "MkqyCuNQY-9-",
	"outputId": "f5cc9dcc-382e-4158-b451-735e2232dce5",
	"colab": {
	"base_uri": "https://localhost:8080/"
	}
	},
	"source": [
	"# Create the review_id_table DataFrame. \n",
	"# Convert the 'review_date' column to a date datatype with to_date(\"review_date\", 'yyyy-MM-dd').alias(\"review_date\")\n",
	"review_id_df = df.select([\"review_id\",\"customer_id\",\"product_id\",\"product_parent\",to_date(\"review_date\", 'yyyy-MM-dd').alias(\"review_date\")])\n",
	"#eview_id_df = df.select([\"review_id\",\"customer_id\",\"product_id\",\"product_parent\",\"review_date\"])\n",
	"review_id_df.show()"
	],
{
	"cell_type": "code",
	"metadata": {
	"id": "lzMmkdKmY--D",
	"outputId": "548690c2-d1ef-498e-dff0-419f196437a8",
	"colab": {
	"base_uri": "https://localhost:8080/"
	}
	},
	"source": [
	"# Create the vine_table. DataFrame\n",
	"vine_df = df.select([\"review_id\",\"star_rating\",\"helpful_votes\",\"total_votes\",\"vine\",\"verified_purchase\"])\n",
	"vine_df.show()"
	],


{
	"cell_type": "markdown",
	"metadata": {
	"id": "jITZhLkmY--J"
	},
	"source": [
	"### Connect to the AWS RDS instance and write each DataFrame to its table. "
	]
	},
	{
	"cell_type": "code",
	"metadata": {
	"id": "7jiUvs1aY--L",
	"outputId": "8aec994c-67c3-4fb0-a513-4d9c2ffdd559",
	"colab": {
	"base_uri": "https://localhost:8080/"
	}
	},
	"source": [
	"# Ask for the password\n",
	"from getpass import getpass\n",
	"secret = getpass('Enter the secret value: ')\n",
	"\n",
	"# Configure settings for RDS\n",
	"mode = \"append\"\n",
	"jdbc_url=\"jdbc:postgresql://dataviz.cq7ukfvtuatk.us-east-2.rds.amazonaws.com:5432/postgres\"\n",
	"config = {\"user\":\"postgres\", \n",
	" \"password\": secret, \n",
	" \"driver\":\"org.postgresql.Driver\"}"
	],
{
	"output_type": "stream",
	"text": [
	"Enter the secret value: ··········\n"
	],
	"name": "stdout"
	}
	]
	},
	{
	"cell_type": "code",
	"metadata": {
	"id": "T2zgZ-aKY--Q"
	},
	"source": [
	"# Write review_id_df to table in RDS\n",
	"review_id_df.write.jdbc(url=jdbc_url, table='review_id_table', mode=mode, properties=config)"
	],
	"execution_count": 13,
	"outputs": []
	},
	{
	"cell_type": "code",
	"metadata": {
	"id": "1m3yzn-LY--U"
	},
	"source": [
	"# Write products_df to table in RDS\n",
	"# about 3 min\n",
	"products_df.write.jdbc(url=jdbc_url, table='products_table', mode=mode, properties=config)"
	],
{
	"cell_type": "code",
	"metadata": {
	"id": "KbXri15fY--Z"
	},
	"source": [
	"# Write customers_df to table in RDS\n",
	"# 5 min 14 s\n",
	"customers_df.write.jdbc(url=jdbc_url, table='customers_table', mode=mode, properties=config)"
	],
{
	"cell_type": "code",
	"metadata": {
	"id": "XdQknSHLY--e"
	},
	"source": [
	"# Write vine_df to table in RDS\n",
	"# 11 minutes\n",
	"vine_df.write.jdbc(url=jdbc_url, table='vine_table', mode=mode, properties=config)"
	],
{
	"cell_type": "code",
	"metadata": {
	"id": "Exuo6ebUsCqW"
	},
	"source": [
	"# https://www.amazon.com/gp/vine/help"
	],
	"execution_count": null,
	"outputs": []
	}
	]
	}
